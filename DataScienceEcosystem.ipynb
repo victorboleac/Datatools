{
 "cells": [
  {
   "cell_type": "markdown",
   "id": "1e23ccb7-9b2a-461b-a4e3-1a4dcf8974c6",
   "metadata": {},
   "source": [
    "<h1>Data Science Tools and Ecosystem</h1>"
   ]
  },
  {
   "cell_type": "markdown",
   "id": "2dc5e9a7-e386-4eb0-9d90-80587f325f7c",
   "metadata": {},
   "source": [
    "In this notebook, Data Science Tools and Ecosystem are summarized."
   ]
  },
  {
   "cell_type": "markdown",
   "id": "f70d2954-874d-4c97-8b78-466fe7cac918",
   "metadata": {},
   "source": [
    "<strong>Objectives:</strong>\n",
    "\n",
    "<ul>\n",
    "    <li>Languages of Data Science</li>\n",
    "    <li>Packages, APIs, Data Sets and Models</li>\n",
    "    <li>Jupyter Notebooks and JupyterLab</li>\n",
    "</ul>"
   ]
  },
  {
   "cell_type": "markdown",
   "id": "993470be-4c84-4000-8f1a-29e737487a1d",
   "metadata": {},
   "source": [
    "Some of the popular languages that Data Scientists use are:\n",
    "<ol>\n",
    "    <li>Python</li>\n",
    "    <li>R</li>\n",
    "    <li>SQL</li>\n",
    "    </ol>"
   ]
  },
  {
   "cell_type": "markdown",
   "id": "c8b1c4ba-9d8c-4158-8e4b-717214527e54",
   "metadata": {},
   "source": [
    "Some of the commonly used libraries used by Data Scientists include:\n",
    "<ol>\n",
    "    <li>Pandas</li>\n",
    "    <li>Matplotlib</li>\n",
    "    <li>Scikit-learn</li>\n",
    "    </ol>"
   ]
  },
  {
   "cell_type": "markdown",
   "id": "ecea8728-a1db-49eb-b51f-efd93c028359",
   "metadata": {},
   "source": [
    "Data Science Tools\n",
    "<ol>\n",
    "    <li>Jupyter Notebooks/JupyterLab</li>\n",
    "    <li>RStudio</li>\n",
    "    <li>Visual Studio Code (VS Code)</li>\n",
    "    </ol>"
   ]
  },
  {
   "cell_type": "markdown",
   "id": "d2779442-a2ab-4b2c-b079-c097c1da8372",
   "metadata": {},
   "source": [
    "<h3>Below are a few examples of evaluating arithmetic expressions in Python</h3>\n"
   ]
  },
  {
   "cell_type": "code",
   "execution_count": 3,
   "id": "f37b2858-8d4c-4544-bff0-3c4f6e1b701d",
   "metadata": {
    "tags": []
   },
   "outputs": [
    {
     "data": {
      "text/plain": [
       "17"
      ]
     },
     "execution_count": 3,
     "metadata": {},
     "output_type": "execute_result"
    }
   ],
   "source": [
    "# This a simple arithmetic expression to mutiply then add integers\n",
    "(3*4)+5"
   ]
  },
  {
   "cell_type": "code",
   "execution_count": 4,
   "id": "62317df1-370b-447c-9b43-b1775e035a35",
   "metadata": {
    "tags": []
   },
   "outputs": [
    {
     "data": {
      "text/plain": [
       "3.3333333333333335"
      ]
     },
     "execution_count": 4,
     "metadata": {},
     "output_type": "execute_result"
    }
   ],
   "source": [
    "# This will convert 200 minutes to hours by diving by 60\n",
    "\n",
    "200/60"
   ]
  },
  {
   "cell_type": "markdown",
   "id": "2283c4c4-4b02-4670-aa9e-47fd7eec3930",
   "metadata": {},
   "source": [
    "<h2>Author</h2> Victor B"
   ]
  },
  {
   "cell_type": "code",
   "execution_count": null,
   "id": "232f405c-851e-4478-95fd-794b42fa67a5",
   "metadata": {},
   "outputs": [],
   "source": []
  }
 ],
 "metadata": {
  "kernelspec": {
   "display_name": "Python",
   "language": "python",
   "name": "conda-env-python-py"
  },
  "language_info": {
   "codemirror_mode": {
    "name": "ipython",
    "version": 3
   },
   "file_extension": ".py",
   "mimetype": "text/x-python",
   "name": "python",
   "nbconvert_exporter": "python",
   "pygments_lexer": "ipython3",
   "version": "3.7.12"
  }
 },
 "nbformat": 4,
 "nbformat_minor": 5
}
